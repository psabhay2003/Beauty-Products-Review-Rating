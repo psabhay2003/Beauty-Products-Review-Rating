{
  "nbformat": 4,
  "nbformat_minor": 0,
  "metadata": {
    "colab": {
      "provenance": []
    },
    "kernelspec": {
      "name": "python3",
      "display_name": "Python 3"
    },
    "language_info": {
      "name": "python"
    }
  },
  "cells": [
    {
      "cell_type": "code",
      "execution_count": 1,
      "metadata": {
        "colab": {
          "base_uri": "https://localhost:8080/"
        },
        "id": "vuHdRiDfocOK",
        "outputId": "8caab56f-7c87-4e66-f989-82d780796432"
      },
      "outputs": [
        {
          "output_type": "stream",
          "name": "stderr",
          "text": [
            "<ipython-input-1-8d4246cd52a3>:19: FutureWarning: Setting an item of incompatible dtype is deprecated and will raise an error in a future version of pandas. Value '' has dtype incompatible with float64, please explicitly cast to a compatible dtype first.\n",
            "  test_df.fillna(\"\", inplace=True)\n"
          ]
        },
        {
          "output_type": "stream",
          "name": "stdout",
          "text": [
            "Submission file created successfully!\n"
          ]
        }
      ],
      "source": [
        "#import the necessary libraries\n",
        "import pandas as pd\n",
        "import numpy as np\n",
        "from sklearn.feature_extraction.text import TfidfVectorizer\n",
        "from sklearn.preprocessing import LabelEncoder\n",
        "from sklearn.linear_model import LinearRegression\n",
        "from sklearn.metrics import mean_squared_error\n",
        "from scipy.sparse import hstack\n",
        "import os\n",
        "\n",
        "# Load datasets\n",
        "train_path = \"https://raw.githubusercontent.com/psabhay2003/Beauty-Products-Review-Rating/refs/heads/main/Train.csv\"\n",
        "test_path = \"https://raw.githubusercontent.com/psabhay2003/Beauty-Products-Review-Rating/refs/heads/main/Test.csv\"\n",
        "train_df = pd.read_csv(train_path)\n",
        "test_df = pd.read_csv(test_path)\n",
        "\n",
        "# Handle missing values\n",
        "train_df.fillna(\"\", inplace=True)\n",
        "test_df.fillna(\"\", inplace=True)\n",
        "\n",
        "# Ensure 'rating' is numeric\n",
        "train_df[\"rating\"] = pd.to_numeric(train_df[\"rating\"], errors=\"coerce\")\n",
        "train_df.dropna(subset=[\"rating\"], inplace=True)  # Remove rows with NaN ratings\n",
        "y_train = train_df[\"rating\"].astype(int)  # Ensure it's an integer\n",
        "\n",
        "# Encode categorical features using Label Encoding\n",
        "categorical_cols = [\"asin\", \"parent_asin\", \"verified_purchase\"]\n",
        "for col in categorical_cols:\n",
        "    le = LabelEncoder()\n",
        "    train_df[col] = le.fit_transform(train_df[col])\n",
        "    test_df[col] = test_df[col].map(lambda s: le.transform([s])[0] if s in le.classes_ else -1)  # Handle unseen labels\n",
        "\n",
        "\n",
        "# Text feature extraction using TF-IDF (Reduce Features to Save Memory)\n",
        "tfidf = TfidfVectorizer(max_features=500, ngram_range=(1,1))  # Reduce to 500 features\n",
        "X_train_text = tfidf.fit_transform(train_df[\"title\"] + \" \" + train_df[\"text\"])\n",
        "X_test_text = tfidf.transform(test_df[\"title\"] + \" \" + test_df[\"text\"])\n",
        "\n",
        "# Combine text features with categorical features (Keep Sparse Matrices)\n",
        "X_train = hstack((X_train_text, train_df[categorical_cols].values))\n",
        "X_test = hstack((X_test_text, test_df[categorical_cols].values))\n",
        "\n",
        "# Train Linear Regression Model\n",
        "lr_model = LinearRegression()\n",
        "lr_model.fit(X_train, y_train)\n",
        "\n",
        "# Predict ratings for the test dataset\n",
        "test_predictions = lr_model.predict(X_test)\n",
        "\n",
        "# Round predictions to nearest valid rating (1-5)\n",
        "test_predictions = np.round(test_predictions).clip(1, 5)\n",
        "\n",
        "# Create the directory if it doesn't exist\n",
        "os.makedirs(\"/mnt/data\", exist_ok=True)\n",
        "\n",
        "# Create submission file\n",
        "submission = pd.DataFrame({\"Id\": range(len(test_predictions)), \"Predicted_Rating\": test_predictions})\n",
        "submission.to_csv(\"/mnt/data/submission.csv\", index=False)\n",
        "\n",
        "print(\"Submission file created successfully!\")"
      ]
    },
    {
      "cell_type": "code",
      "source": [
        "from google.colab import files\n",
        "files.download(\"/mnt/data/submission.csv\")\n"
      ],
      "metadata": {
        "colab": {
          "base_uri": "https://localhost:8080/",
          "height": 17
        },
        "id": "RzhDe3CLqSFK",
        "outputId": "d6152eba-4ed9-4de1-ff06-dc1e8d4a7649"
      },
      "execution_count": 3,
      "outputs": [
        {
          "output_type": "display_data",
          "data": {
            "text/plain": [
              "<IPython.core.display.Javascript object>"
            ],
            "application/javascript": [
              "\n",
              "    async function download(id, filename, size) {\n",
              "      if (!google.colab.kernel.accessAllowed) {\n",
              "        return;\n",
              "      }\n",
              "      const div = document.createElement('div');\n",
              "      const label = document.createElement('label');\n",
              "      label.textContent = `Downloading \"${filename}\": `;\n",
              "      div.appendChild(label);\n",
              "      const progress = document.createElement('progress');\n",
              "      progress.max = size;\n",
              "      div.appendChild(progress);\n",
              "      document.body.appendChild(div);\n",
              "\n",
              "      const buffers = [];\n",
              "      let downloaded = 0;\n",
              "\n",
              "      const channel = await google.colab.kernel.comms.open(id);\n",
              "      // Send a message to notify the kernel that we're ready.\n",
              "      channel.send({})\n",
              "\n",
              "      for await (const message of channel.messages) {\n",
              "        // Send a message to notify the kernel that we're ready.\n",
              "        channel.send({})\n",
              "        if (message.buffers) {\n",
              "          for (const buffer of message.buffers) {\n",
              "            buffers.push(buffer);\n",
              "            downloaded += buffer.byteLength;\n",
              "            progress.value = downloaded;\n",
              "          }\n",
              "        }\n",
              "      }\n",
              "      const blob = new Blob(buffers, {type: 'application/binary'});\n",
              "      const a = document.createElement('a');\n",
              "      a.href = window.URL.createObjectURL(blob);\n",
              "      a.download = filename;\n",
              "      div.appendChild(a);\n",
              "      a.click();\n",
              "      div.remove();\n",
              "    }\n",
              "  "
            ]
          },
          "metadata": {}
        },
        {
          "output_type": "display_data",
          "data": {
            "text/plain": [
              "<IPython.core.display.Javascript object>"
            ],
            "application/javascript": [
              "download(\"download_c9112fc7-e6a8-457c-88fd-73052051d4af\", \"submission.csv\", 1510)"
            ]
          },
          "metadata": {}
        }
      ]
    },
    {
      "cell_type": "code",
      "source": [
        "from sklearn.model_selection import KFold, cross_val_score\n",
        "\n",
        "# Create a KFold object with 5 splits\n",
        "cv = KFold(n_splits=5, shuffle=True, random_state=42)\n",
        "\n",
        "# Compute negative MSE scores (we'll convert them to RMSE)\n",
        "neg_mse_scores = cross_val_score(lr_model, X_train, y_train, scoring=\"neg_mean_squared_error\", cv=cv)\n",
        "rmse_scores = np.sqrt(-neg_mse_scores)\n",
        "\n",
        "print(\"Cross-Validation RMSE Scores:\", rmse_scores)\n",
        "print(\"Mean RMSE: {:.4f}\".format(rmse_scores.mean()))\n",
        "print(\"Standard Deviation of RMSE: {:.4f}\".format(rmse_scores.std()))\n"
      ],
      "metadata": {
        "colab": {
          "base_uri": "https://localhost:8080/"
        },
        "id": "C398g0r2rHgc",
        "outputId": "08aa66d9-2acd-4337-b48a-828e0539aa14"
      },
      "execution_count": 2,
      "outputs": [
        {
          "output_type": "stream",
          "name": "stdout",
          "text": [
            "Cross-Validation RMSE Scores: [0.9530652  0.96254172 0.97441877 0.98056392 0.95354783]\n",
            "Mean RMSE: 0.9648\n",
            "Standard Deviation of RMSE: 0.0110\n"
          ]
        }
      ]
    }
  ]
}